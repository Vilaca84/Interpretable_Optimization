{
 "cells": [
  {
   "cell_type": "markdown",
   "id": "954d3453-cd5d-428c-bddc-3d3a6b88b467",
   "metadata": {
    "tags": []
   },
   "source": [
    "<span style=\"font-family: Arial; font-weight:bold;font-size:2em;color:#0ab6fa\">Hands on Linear Programming with Gurobi"
   ]
  },
  {
   "cell_type": "markdown",
   "id": "48f0753c-fbd1-49dd-8982-abc3d84702da",
   "metadata": {},
   "source": [
    "**Phillipe Vilaça Gomes** <br>\n",
    "**Institute for Research in Technology IIT, Comillas Pontifical University** <br>\n",
    "**Madrid, Spain, 2024.** <br>\n",
    "- Phillipe Vilaça, phillipe.v@comillas.edu"
   ]
  },
  {
   "cell_type": "markdown",
   "id": "32d6478a-a203-4dad-8ec7-30d5951c4e65",
   "metadata": {},
   "source": [
    "**Note**: <br>\n",
    "This educational material on \"Hands-on Linear Programming with Gurobi\" is derived from the \"Interpretable Optimization\" project. This project was conducted by: <br>\n",
    "- Dra Sara Lumbreras (https://www.iit.comillas.edu/personas/slumbreras);\n",
    "- Dr Javier García González (https://www.iit.comillas.edu/personas/javiergg); and \n",
    "- Dr Phillipe Vilaça Gomes (https://www.iit.comillas.edu/personas/phillipe.v)."
   ]
  },
  {
   "cell_type": "markdown",
   "id": "9cbc0135-0095-441f-a620-a1ed0f9787c9",
   "metadata": {},
   "source": [
    "**Prerequisite Knowledge Notice:** <br>\n",
    "This educational material on \"Hands-on Linear Programming with Gurobi\" is designed for students who possess at least an intermediate level of understanding in key areas of Linear Programming (LP). Before delving into this content, it is recommended that students are familiar with the following concepts:\n",
    "\n",
    "- **LP Formulation:** Understanding the basic mathematical formulation of linear programming problems.\n",
    "- **LP Feasible Region and Optimality:** Knowledge of what constitutes a feasible region in LP and how optimality is determined within this context.\n",
    "- **LP Sensitivity Analysis:** Insight into how changes in the parameters of a linear program affect its solution.\n",
    "- **LP Duality:** A grasp of the principles of duality in linear programming, including the ability to understand and interpret dual problems.\n",
    "\n",
    "This foundational knowledge is crucial for a comprehensive understanding of the material presented, as it builds upon these core concepts, particularly in the application of the Gurobi solver for LP problems.\n",
    "\n"
   ]
  },
  {
   "cell_type": "markdown",
   "id": "a3c8639f-ab92-41c2-8e44-d2e3737432c1",
   "metadata": {},
   "source": [
    "## Table of Content\n",
    "**[1. Introduction to Gurobi](#M1)** <br>\n",
    "**[2. Installing Gurobi](#M2)** <br>\n",
    "**[3. Importing Gurobi and other libraries](#M3)** <br>\n",
    "**[4. Detailed LP Problem: A real world example](#M4)** <br>\n",
    "**[5. Detailed LP Problem: Mathematical Formulation](#M5)** <br>\n",
    "**[6. Detailed LP Problem: Gurobi Model](#M6)** <br>\n",
    "**[7. Key Gurobi commands](#M7)** <br>"
   ]
  },
  {
   "cell_type": "markdown",
   "id": "33ea18a8-0339-45e0-a0d7-c895899ad34d",
   "metadata": {},
   "source": [
    "<a id=\"M1\"> </a>\n",
    "<span style=\"font-family: Arial; font-weight:bold;font-size:1.8em;color:#6E1B1B\">1. Introduction to Gurobi"
   ]
  },
  {
   "cell_type": "markdown",
   "id": "8e105245-3bca-402e-b802-9ca0d8feae44",
   "metadata": {},
   "source": [
    "- Gurobi is a powerful optimization solver that specializes in linear programming (LP), mixed-integer programming (MIP), and other types of mathematical programming. It's widely used in both academia and industry due to its efficiency and robustness in handling complex optimization problems. Gurobi is known for its high performance and ability to provide accurate solutions rapidly.\n",
    "\n",
    "- In this material, we will explore the basic functionalities of Gurobi and demonstrate how to set up and solve linear programming problems using this solver. This hands-on approach will provide practical insights into utilizing Gurobi for real-world optimization challenges.\n"
   ]
  },
  {
   "cell_type": "markdown",
   "id": "730f470c-b659-4647-9426-3564c7fee5c9",
   "metadata": {},
   "source": [
    "<a id=\"M2\"> </a>\n",
    "<span style=\"font-family: Arial; font-weight:bold;font-size:1.8em;color:#6E1B1B\">2. Installing Gurobi"
   ]
  },
  {
   "cell_type": "code",
   "execution_count": 46,
   "id": "8e183b8d-5b1d-4875-b8df-763a50fa4da9",
   "metadata": {
    "tags": []
   },
   "outputs": [],
   "source": [
    "# Uncomment and run this cell if you need to install Gurobi\n",
    "# !pip install gurobipy"
   ]
  },
  {
   "cell_type": "markdown",
   "id": "cc8385a1-ae15-481d-b7a1-ca0a1b3c9f49",
   "metadata": {},
   "source": [
    "<a id=\"M3\"> </a>\n",
    "<span style=\"font-family: Arial; font-weight:bold;font-size:1.8em;color:#6E1B1B\">3 Importing Gurobi and other libraries"
   ]
  },
  {
   "cell_type": "code",
   "execution_count": 5,
   "id": "9e453406-8566-4d47-aa30-7d88be81a737",
   "metadata": {
    "tags": []
   },
   "outputs": [],
   "source": [
    "import gurobipy as gp\n",
    "from gurobipy import GRB\n",
    "import os\n",
    "import numpy as np\n",
    "import warnings\n",
    "\n",
    "# Suppress DeprecationWarning\n",
    "warnings.filterwarnings('ignore', category=DeprecationWarning)"
   ]
  },
  {
   "cell_type": "markdown",
   "id": "299cdb75-0577-43af-84a8-8e427ad3ce6b",
   "metadata": {
    "tags": []
   },
   "source": [
    "<a id=\"M4\"> </a>\n",
    "<span style=\"font-family: Arial; font-weight:bold;font-size:1.8em;color:#6E1B1B\">4 Detailed LP Problem: A real world example"
   ]
  },
  {
   "cell_type": "markdown",
   "id": "793041a2-356c-4655-86b2-1b32062dedd5",
   "metadata": {},
   "source": [
    "### Scenario\n",
    "\n",
    "A factory manufactures two types of products: Product A and Product B. The factory operates with two machines, Machine 1 and Machine 2. The goal is to maximize the factory's profits under certain production and machine usage constraints.\n",
    "\n",
    "### Products and Profit\n",
    "\n",
    "- **Product A** brings a profit of \\$50 per unit.\n",
    "- **Product B** brings a profit of \\$40 per unit.\n",
    "\n",
    "### Production Time Constraints\n",
    "\n",
    "- **Machine 1** has a maximum operational time of 12 hours per day.\n",
    "   - It takes 1 hour to produce one unit of Product A.\n",
    "   - It takes 0.5 hours to produce one unit of Product B.\n",
    "\n",
    "- **Machine 2** has a maximum operational time of 10 hours per day.\n",
    "   - It takes 0.5 hours to produce one unit of Product A.\n",
    "   - It takes 1 hour to produce one unit of Product B.\n",
    "\n",
    "### Market Demand Constraint\n",
    "\n",
    "- The market can absorb a maximum of 20 units of Product A and 25 units of Product B per day.\n",
    "\n",
    "### Objective\n",
    "\n",
    "Determine the optimal number of units of Product A and Product B to produce daily to maximize profits, considering machine time and market demand constraints."
   ]
  },
  {
   "cell_type": "markdown",
   "id": "69a793cf-aac7-486a-abd1-acd6aab20e13",
   "metadata": {},
   "source": [
    "<a id=\"M5\"> </a>\n",
    "<span style=\"font-family: Arial; font-weight:bold;font-size:1.8em;color:#6E1B1B\">5 Detailed LP Problem: Mathematical Formulation"
   ]
  },
  {
   "cell_type": "markdown",
   "id": "18d00f7e-ac8c-48ff-99d3-06909a4e5e6f",
   "metadata": {},
   "source": [
    "### Decision Variables\n",
    "- \\( $x_1$ \\): Number of units of Product A produced per day.\n",
    "- \\( $x_2$ \\): Number of units of Product B produced per day.\n",
    "\n",
    "### Objective Function\n",
    "- Maximize total profit: \\( Z = 50$x_1$ + 40$x_2$ \\)\n",
    "\n",
    "### Constraints\n",
    "1. Machine 1 Time: \\( $x_1$ + 0.5$x_2$ $\\leq$ 12 \\)\n",
    "2. Machine 2 Time: \\( 0.5$x_1$ + $x_2$ $\\leq$ 10 \\)\n",
    "3. Market Demand for Product A: \\( $x_1$ $\\leq$ 20 \\)\n",
    "4. Market Demand for Product B: \\( $x_2$ $\\leq$ 25 \\)\n",
    "5. Non-negativity: \\( $x_1$, $x_2$ $\\geq$ 0 \\)\n"
   ]
  },
  {
   "cell_type": "markdown",
   "id": "72130819-d5a6-4009-8dc8-3d539762078e",
   "metadata": {},
   "source": [
    "<a id=\"M6\"> </a>\n",
    "<span style=\"font-family: Arial; font-weight:bold;font-size:1.8em;color:#6E1B1B\">6 Detailed LP Problem: Gurobi Model"
   ]
  },
  {
   "cell_type": "code",
   "execution_count": 6,
   "id": "cce8127e-6f64-4014-ac7a-b574e7cd8ac9",
   "metadata": {
    "tags": []
   },
   "outputs": [
    {
     "name": "stdout",
     "output_type": "stream",
     "text": [
      "Set parameter Username\n",
      "Academic license - for non-commercial use only - expires 2024-12-04\n"
     ]
    }
   ],
   "source": [
    "# Define the model\n",
    "model = gp.Model(\"FactoryOptimization\")"
   ]
  },
  {
   "cell_type": "code",
   "execution_count": 7,
   "id": "204e87ba-9d8b-4ee8-b4e2-34c859edcab7",
   "metadata": {
    "tags": []
   },
   "outputs": [],
   "source": [
    "# Add Decision Variables\n",
    "x1 = model.addVar(vtype=GRB.CONTINUOUS, name=\"x1\", lb=0)\n",
    "x2 = model.addVar(vtype=GRB.CONTINUOUS, name=\"x2\", lb=0)"
   ]
  },
  {
   "cell_type": "code",
   "execution_count": 8,
   "id": "8177e95a-4210-4a6c-8edf-1b2d4d987ed7",
   "metadata": {
    "tags": []
   },
   "outputs": [],
   "source": [
    "# Set the Objective Function\n",
    "model.setObjective(50 * x1 + 40 * x2, GRB.MAXIMIZE)"
   ]
  },
  {
   "cell_type": "code",
   "execution_count": 9,
   "id": "e9d98e19-9bf3-4f81-8bae-297390d63022",
   "metadata": {
    "tags": []
   },
   "outputs": [
    {
     "data": {
      "text/plain": [
       "<gurobi.Constr *Awaiting Model Update*>"
      ]
     },
     "execution_count": 9,
     "metadata": {},
     "output_type": "execute_result"
    }
   ],
   "source": [
    "# Add Constraints\n",
    "\n",
    "# Machine 1 time constraint\n",
    "model.addConstr(x1 + 0.5 * x2 <= 12, \"Machine1\")\n",
    "\n",
    "# Machine 2 time constraint\n",
    "model.addConstr(0.5 * x1 + x2 <= 10, \"Machine2\")\n",
    "\n",
    "# Market demand constraints\n",
    "model.addConstr(x1 <= 20, \"DemandA\")\n",
    "model.addConstr(x2 <= 25, \"DemandB\")\n"
   ]
  },
  {
   "cell_type": "code",
   "execution_count": 10,
   "id": "e08307bd-256d-467b-86e7-0153396797c4",
   "metadata": {
    "tags": []
   },
   "outputs": [
    {
     "name": "stdout",
     "output_type": "stream",
     "text": [
      "Gurobi Optimizer version 11.0.0 build v11.0.0rc2 (win64 - Windows 11+.0 (22631.2))\n",
      "\n",
      "CPU model: 11th Gen Intel(R) Core(TM) i7-1185G7 @ 3.00GHz, instruction set [SSE2|AVX|AVX2|AVX512]\n",
      "Thread count: 4 physical cores, 8 logical processors, using up to 8 threads\n",
      "\n",
      "Optimize a model with 4 rows, 2 columns and 6 nonzeros\n",
      "Model fingerprint: 0xbeafecd7\n",
      "Coefficient statistics:\n",
      "  Matrix range     [5e-01, 1e+00]\n",
      "  Objective range  [4e+01, 5e+01]\n",
      "  Bounds range     [0e+00, 0e+00]\n",
      "  RHS range        [1e+01, 3e+01]\n",
      "Presolve removed 2 rows and 0 columns\n",
      "Presolve time: 0.01s\n",
      "Presolved: 2 rows, 2 columns, 4 nonzeros\n",
      "\n",
      "Iteration    Objective       Primal Inf.    Dual Inf.      Time\n",
      "       0    9.6000000e+02   1.399450e+01   0.000000e+00      0s\n",
      "       2    6.8000000e+02   0.000000e+00   0.000000e+00      0s\n",
      "\n",
      "Solved in 2 iterations and 0.02 seconds (0.00 work units)\n",
      "Optimal objective  6.800000000e+02\n"
     ]
    }
   ],
   "source": [
    "# Solve the Model\n",
    "model.optimize()"
   ]
  },
  {
   "cell_type": "code",
   "execution_count": 11,
   "id": "cc8e316f-740f-460b-b93f-81a6b396cbe3",
   "metadata": {
    "tags": []
   },
   "outputs": [
    {
     "name": "stdout",
     "output_type": "stream",
     "text": [
      "Optimal number of Product A to produce: 9.333333333333334\n",
      "Optimal number of Product B to produce: 5.333333333333333\n",
      "Maximum Profit: $680.0\n"
     ]
    }
   ],
   "source": [
    "# Print the solution\n",
    "if model.status == GRB.OPTIMAL:\n",
    "    print(f\"Optimal number of Product A to produce: {x1.X}\")\n",
    "    print(f\"Optimal number of Product B to produce: {x2.X}\")\n",
    "    print(f\"Maximum Profit: ${model.ObjVal}\")"
   ]
  },
  {
   "cell_type": "code",
   "execution_count": 12,
   "id": "a050d0ff-2137-42f4-9f13-d770f777b4eb",
   "metadata": {
    "tags": []
   },
   "outputs": [
    {
     "name": "stdout",
     "output_type": "stream",
     "text": [
      "Constraint Comparisons (LHS vs RHS):\n",
      "Machine1: LHS = 12.0, RHS = 12.0\n",
      "Machine2: LHS = 10.0, RHS = 10.0\n",
      "DemandA: LHS = 9.333333333333334, RHS = 20.0\n",
      "DemandB: LHS = 5.333333333333333, RHS = 25.0\n"
     ]
    }
   ],
   "source": [
    "# Check if the optimization was successful\n",
    "if model.status == GRB.OPTIMAL:\n",
    "    # Retrieve the optimal values\n",
    "    x1_optimal = x1.X\n",
    "    x2_optimal = x2.X\n",
    "\n",
    "    # Get the constraints from the model\n",
    "    constraints = model.getConstrs()\n",
    "\n",
    "    # Calculate and print LHS vs RHS for each constraint\n",
    "    print(\"Constraint Comparisons (LHS vs RHS):\")\n",
    "    for constr in constraints:\n",
    "        # Get the name of the constraint\n",
    "        constr_name = constr.ConstrName\n",
    "\n",
    "        # Get the RHS of the constraint\n",
    "        rhs = constr.RHS\n",
    "\n",
    "        # Calculate the LHS of the constraint\n",
    "        # This requires summing the products of the variables' coefficients and their optimal values\n",
    "        lhs = sum(model.getCoeff(constr, var) * var.X for var in model.getVars())\n",
    "\n",
    "        # Print LHS and RHS\n",
    "        print(f\"{constr_name}: LHS = {lhs}, RHS = {rhs}\")\n",
    "else:\n",
    "    print(\"Optimization was unsuccessful. Status code:\", model.status)"
   ]
  },
  {
   "cell_type": "markdown",
   "id": "07ed9d3e-7d73-418b-a8aa-435514d14f39",
   "metadata": {},
   "source": [
    "**Note: Variable Types and Problem Complexity**\n",
    "\n",
    "In our current model, the decision variables representing the quantities of Product A (`x1`) and Product B (`x2`) are treated as continuous variables. This means that our model may suggest fractional production quantities, such as producing 9.33 units of Product A.\n",
    "\n",
    "However, in a real-world manufacturing context, it often makes more sense to have these quantities as integers since you cannot produce a fraction of a product. In such cases, the decision variables would be defined as integer variables, transforming our problem into a Mixed-Integer Linear Programming (MILP) problem.\n",
    "\n",
    "MILP problems are generally more complex to solve than their continuous counterparts due to the added complexity of integer constraints. For the sake of simplicity and focus on the basic concepts of Linear Programming, we have not included integer constraints in this model. Nevertheless, it's important to be aware of this distinction and its implications in practical applications.\n"
   ]
  },
  {
   "cell_type": "markdown",
   "id": "eec912c2-cde9-4898-b99e-c14199256007",
   "metadata": {
    "tags": []
   },
   "source": [
    "<a id=\"M7\"> </a>\n",
    "<span style=\"font-family: Arial; font-weight:bold;font-size:1.8em;color:#6E1B1B\">7 Key Gurobi commands"
   ]
  },
  {
   "cell_type": "markdown",
   "id": "f54bd512-e7fb-4d54-aa2b-08344c30c6e9",
   "metadata": {},
   "source": [
    "<a id=\"M7.1\"> </a>\n",
    "<span style=\"font-family: Arial; font-weight:bold;font-size:1.0em;color:#6E1B1B\">7.1 Reading a mps or a lp file"
   ]
  },
  {
   "cell_type": "code",
   "execution_count": 71,
   "id": "c5181094-75e9-46bc-afd5-b0f7e74ff97c",
   "metadata": {},
   "outputs": [],
   "source": [
    "# Get the current working directory\n",
    "current_working_directory = os.getcwd()"
   ]
  },
  {
   "cell_type": "code",
   "execution_count": 72,
   "id": "86dd905c-34a4-40be-883f-cd23ed67b38a",
   "metadata": {},
   "outputs": [],
   "source": [
    "# Name of the model to read\n",
    "model_name_mps = 'TRNSPORT.mps'  # MPS format\n",
    "\n",
    "# Alternatively, you can use the LP format of the same model:\n",
    "model_name_lp = 'TRNSPORT.lp'"
   ]
  },
  {
   "cell_type": "markdown",
   "id": "0b0ad88c-54a8-4a5e-a43a-ab1f7d1a291b",
   "metadata": {},
   "source": [
    "**Note: File Formats** <br>\n",
    "Whether you use the MPS or LP version, the Gurobi model created will be the same.\n",
    "The MPS format (Mathematical Programming System) and LP format (Linear Programming format) are just different ways of encoding the same optimization problem. The MPS format is older and more compact, while the LP format is more human-readable."
   ]
  },
  {
   "cell_type": "code",
   "execution_count": 73,
   "id": "4f74c822-11b6-47f8-9f10-91a6152cb321",
   "metadata": {
    "tags": []
   },
   "outputs": [
    {
     "name": "stdout",
     "output_type": "stream",
     "text": [
      "Read MPS format model from file TRNSPORT.mps\n",
      "Reading time = 0.02 seconds\n",
      "Convert: 6 rows, 7 columns, 19 nonzeros\n",
      "Read LP format model from file TRNSPORT.lp\n",
      "Reading time = 0.02 seconds\n",
      "_obj: 5 rows, 7 columns, 12 nonzeros\n"
     ]
    }
   ],
   "source": [
    "# Read the model\n",
    "model = gp.read(model_name_mps)\n",
    "model_just_to_compare = gp.read(model_name_lp)"
   ]
  },
  {
   "cell_type": "code",
   "execution_count": 74,
   "id": "4422eca8-9ed0-443d-ae8e-c06839d2900b",
   "metadata": {
    "tags": []
   },
   "outputs": [
    {
     "name": "stdout",
     "output_type": "stream",
     "text": [
      "Minimize\n",
      "  x7\n",
      "Subject To\n",
      "  e1: -0.225 x1 + -0.153 x2 + -0.162 x3 + -0.225 x4 + -0.162 x5 + -0.126 x6 + x7 = 0\n",
      "  e2: x1 + x2 + x3 <= 350\n",
      "  e3: x4 + x5 + x6 <= 600\n",
      "  e4: x1 + x4 >= 325\n",
      "  e5: x2 + x5 >= 300\n",
      "  e6: x3 + x6 >= 275\n",
      "Bounds\n",
      "  x7 free\n"
     ]
    }
   ],
   "source": [
    "# print the model (build from mps file)\n",
    "model.display()"
   ]
  },
  {
   "cell_type": "code",
   "execution_count": 75,
   "id": "1134c57b-7841-4d38-8d7e-90a6d1d6e405",
   "metadata": {
    "tags": []
   },
   "outputs": [
    {
     "name": "stdout",
     "output_type": "stream",
     "text": [
      "Minimize\n",
      "0.225 x(seattle,newmyork)#0 + 0.153 x(seattle,chicago)#1 + 0.162 x(seattle,topeka)#2\n",
      "+ 0.225 x(sanmdiego,newmyork)#3 + 0.162 x(sanmdiego,chicago)#4\n",
      "+ 0.126 x(sanmdiego,topeka)#5 + constobj#6\n",
      "Subject To\n",
      "supply(seattle)#0: x(seattle,newmyork)#0 + x(seattle,chicago)#1 + x(seattle,topeka)#2\n",
      " <= 350\n",
      "supply(sanmdiego)#1: x(sanmdiego,newmyork)#3 + x(sanmdiego,chicago)#4 +\n",
      " x(sanmdiego,topeka)#5 <= 600\n",
      "  demand(newmyork)#2: x(seattle,newmyork)#0 + x(sanmdiego,newmyork)#3 >= 325\n",
      "  demand(chicago)#3: x(seattle,chicago)#1 + x(sanmdiego,chicago)#4 >= 300\n",
      "  demand(topeka)#4: x(seattle,topeka)#2 + x(sanmdiego,topeka)#5 >= 275\n",
      "Bounds\n",
      "  constobj#6 = 0\n"
     ]
    }
   ],
   "source": [
    "# print the model (build from lp file)\n",
    "model_just_to_compare.display()"
   ]
  },
  {
   "cell_type": "markdown",
   "id": "55fbaee9-f715-4d64-9396-75e20a1e6a96",
   "metadata": {},
   "source": [
    "<a id=\"M7.2\"> </a>\n",
    "<span style=\"font-family: Arial; font-weight:bold;font-size:1.0em;color:#6E1B1B\">7.2 Extract key matrices and vectors from a Gurobi model "
   ]
  },
  {
   "cell_type": "markdown",
   "id": "7fd4e998-3d55-40f8-8735-3c6203e31e14",
   "metadata": {},
   "source": [
    "## Generic Linear Programming Model Formulation\n",
    "\n",
    "We define a generic linear programming (LP) problem in the following form:\n",
    "\n",
    "**Objective:**\n",
    "Minimize \\( Z = $c^T x$ \\)\n",
    "\n",
    "**Subject to:**\n",
    "\n",
    "\\[ Ax $\\geq$ b \\] <br>\n",
    "\\[ lb $\\leq$ x $\\leq$ ub \\]\n",
    "\n",
    "In which:\n",
    "- $b = [b_1, b_2, ..., b_n]$ is the right-hand side vector of the constraints.\n",
    "- $c = [c_1, c_2, ..., c_n]$  is the coefficients vector for the objective function.\n",
    "- $A = \\begin{bmatrix}\n",
    "  a_{11} & a_{12} & \\cdots & a_{1n} \\\\\n",
    "  a_{21} & a_{22} & \\cdots & a_{2n} \\\\\n",
    "  \\vdots & \\vdots & \\ddots & \\vdots \\\\\n",
    "  a_{m1} & a_{m2} & \\cdots & a_{mn}\n",
    "\\end{bmatrix}$ is the coefficient matrix for the constraints.\n",
    "- $lb = [lb_1, lb_2, ..., lb_n]$ and $ub = [ub_1, ub_2, ..., ub_n]$ are the lower and upper bounds vectors for the decision variables $x$.\n"
   ]
  },
  {
   "cell_type": "code",
   "execution_count": 76,
   "id": "e52deb87-212d-47e1-8010-412571469c0c",
   "metadata": {
    "tags": []
   },
   "outputs": [
    {
     "name": "stdout",
     "output_type": "stream",
     "text": [
      "[[-0.225 -0.153 -0.162 -0.225 -0.162 -0.126  1.   ]\n",
      " [ 1.     1.     1.     0.     0.     0.     0.   ]\n",
      " [ 0.     0.     0.     1.     1.     1.     0.   ]\n",
      " [ 1.     0.     0.     1.     0.     0.     0.   ]\n",
      " [ 0.     1.     0.     0.     1.     0.     0.   ]\n",
      " [ 0.     0.     1.     0.     0.     1.     0.   ]]\n"
     ]
    }
   ],
   "source": [
    "# Access constraint matrix A\n",
    "A = model.getA()\n",
    "print(A.A)"
   ]
  },
  {
   "cell_type": "code",
   "execution_count": 77,
   "id": "b679520b-9e70-41ff-b10f-d26d81c82f01",
   "metadata": {
    "tags": []
   },
   "outputs": [
    {
     "name": "stdout",
     "output_type": "stream",
     "text": [
      "[0.0, 350.0, 600.0, 325.0, 300.0, 275.0]\n"
     ]
    }
   ],
   "source": [
    "# Access right-hand side (RHS) vector b\n",
    "b = model.getAttr('RHS', model.getConstrs())\n",
    "print(b)"
   ]
  },
  {
   "cell_type": "code",
   "execution_count": 78,
   "id": "0e73660c-9e6e-4642-aa88-2790e534f20f",
   "metadata": {
    "tags": []
   },
   "outputs": [
    {
     "name": "stdout",
     "output_type": "stream",
     "text": [
      "[0.0, 0.0, 0.0, 0.0, 0.0, 0.0, 1.0]\n"
     ]
    }
   ],
   "source": [
    "# Access objective function coefficients c\n",
    "c = model.getAttr('Obj', model.getVars())\n",
    "print(c)"
   ]
  },
  {
   "cell_type": "code",
   "execution_count": 79,
   "id": "d22d080e-a57d-4a75-8444-29905a80c4e0",
   "metadata": {
    "tags": []
   },
   "outputs": [
    {
     "name": "stdout",
     "output_type": "stream",
     "text": [
      "[  0.   0.   0.   0.   0.   0. -inf]\n"
     ]
    }
   ],
   "source": [
    "# Access lower bounds (lb) \n",
    "lb = np.array([var.LB for var in model.getVars()])\n",
    "print(lb)"
   ]
  },
  {
   "cell_type": "code",
   "execution_count": 80,
   "id": "0d746cc8-5aaa-4327-91d2-3acbd7efa882",
   "metadata": {
    "tags": []
   },
   "outputs": [
    {
     "name": "stdout",
     "output_type": "stream",
     "text": [
      "[inf inf inf inf inf inf inf]\n"
     ]
    }
   ],
   "source": [
    "# Access upper bounds (ub)\n",
    "ub = np.array([var.UB for var in model.getVars()])\n",
    "print(ub)"
   ]
  },
  {
   "cell_type": "code",
   "execution_count": 81,
   "id": "959b2da1-b0e2-42ae-8584-327fc3bb8041",
   "metadata": {
    "tags": []
   },
   "outputs": [
    {
     "name": "stdout",
     "output_type": "stream",
     "text": [
      "1\n"
     ]
    }
   ],
   "source": [
    "# Access the sense of optimization\n",
    "of_sense = model.ModelSense\n",
    "print(of_sense)"
   ]
  },
  {
   "cell_type": "code",
   "execution_count": 82,
   "id": "feb4bb78-6674-4f28-8c60-cb4f53273361",
   "metadata": {
    "tags": []
   },
   "outputs": [
    {
     "name": "stdout",
     "output_type": "stream",
     "text": [
      "['=', '<', '<', '>', '>', '>']\n"
     ]
    }
   ],
   "source": [
    "# Access the sense of each constraint\n",
    "cons_senses = [constr.Sense for constr in model.getConstrs()]\n",
    "print(cons_senses)"
   ]
  },
  {
   "cell_type": "code",
   "execution_count": 83,
   "id": "376a6709-4843-45fc-a5a2-f55df9bb93b8",
   "metadata": {
    "tags": []
   },
   "outputs": [],
   "source": [
    "# Saving the model in lp format\n",
    "model.write(\"model.lp\")"
   ]
  },
  {
   "cell_type": "code",
   "execution_count": 84,
   "id": "bd8aa858-d81c-42af-834d-95157ed80b26",
   "metadata": {
    "tags": []
   },
   "outputs": [
    {
     "name": "stdout",
     "output_type": "stream",
     "text": [
      "\\ Model Convert\n",
      "\\ LP format - for model browsing. Use MPS format to capture full model detail.\n",
      "Minimize\n",
      "  x7\n",
      "Subject To\n",
      " e1: - 0.225 x1 - 0.153 x2 - 0.162 x3 - 0.225 x4 - 0.162 x5 - 0.126 x6 + x7\n",
      "   = 0\n",
      " e2: x1 + x2 + x3 <= 350\n",
      " e3: x4 + x5 + x6 <= 600\n",
      " e4: x1 + x4 >= 325\n",
      " e5: x2 + x5 >= 300\n",
      " e6: x3 + x6 >= 275\n",
      "Bounds\n",
      " x7 free\n",
      "End\n",
      "\n"
     ]
    }
   ],
   "source": [
    "# Reading the lp model\n",
    "with open(\"model.lp\", 'r') as file:\n",
    "    model_lp = file.read()\n",
    "\n",
    "print(model_lp)"
   ]
  },
  {
   "cell_type": "markdown",
   "id": "e8ab4190-0c4a-46cb-9c33-bec1daed95ab",
   "metadata": {},
   "source": [
    "<a id=\"M7.3\"> </a>\n",
    "<span style=\"font-family: Arial; font-weight:bold;font-size:1.0em;color:#6E1B1B\">7.3 Gurobi key commands"
   ]
  },
  {
   "cell_type": "code",
   "execution_count": 85,
   "id": "3f12b9d8-901d-4a3f-86eb-cfcd089de870",
   "metadata": {
    "tags": []
   },
   "outputs": [
    {
     "name": "stdout",
     "output_type": "stream",
     "text": [
      "Gurobi Optimizer version 11.0.0 build v11.0.0rc2 (win64 - Windows 11+.0 (22631.2))\n",
      "\n",
      "CPU model: 11th Gen Intel(R) Core(TM) i7-1185G7 @ 3.00GHz, instruction set [SSE2|AVX|AVX2|AVX512]\n",
      "Thread count: 4 physical cores, 8 logical processors, using up to 8 threads\n",
      "\n",
      "Optimize a model with 6 rows, 7 columns and 19 nonzeros\n",
      "Model fingerprint: 0x9e893693\n",
      "Coefficient statistics:\n",
      "  Matrix range     [1e-01, 1e+00]\n",
      "  Objective range  [1e+00, 1e+00]\n",
      "  Bounds range     [0e+00, 0e+00]\n",
      "  RHS range        [3e+02, 6e+02]\n",
      "Presolve removed 1 rows and 1 columns\n",
      "Presolve time: 0.01s\n",
      "Presolved: 5 rows, 6 columns, 12 nonzeros\n",
      "\n",
      "Iteration    Objective       Primal Inf.    Dual Inf.      Time\n",
      "       0    0.0000000e+00   1.125000e+02   0.000000e+00      0s\n",
      "       4    1.5367500e+02   0.000000e+00   0.000000e+00      0s\n",
      "\n",
      "Solved in 4 iterations and 0.03 seconds (0.00 work units)\n",
      "Optimal objective  1.536750000e+02\n"
     ]
    }
   ],
   "source": [
    "# Solving the model\n",
    "model.optimize()"
   ]
  },
  {
   "cell_type": "code",
   "execution_count": 86,
   "id": "b4a24155-89fb-46bc-92f0-3615bc0d8cb7",
   "metadata": {
    "tags": []
   },
   "outputs": [
    {
     "data": {
      "text/plain": [
       "{'x1': 50.0,\n",
       " 'x2': 300.0,\n",
       " 'x3': 0.0,\n",
       " 'x4': 275.0,\n",
       " 'x5': 0.0,\n",
       " 'x6': 275.0,\n",
       " 'x7': 153.675}"
      ]
     },
     "execution_count": 86,
     "metadata": {},
     "output_type": "execute_result"
    }
   ],
   "source": [
    "# Getting the values of the decision variables as a dictionary\n",
    "{var.varName: var.x for var in model.getVars()}"
   ]
  },
  {
   "cell_type": "code",
   "execution_count": 87,
   "id": "04ae95ce-a6da-4849-b0c9-7609aa9c9357",
   "metadata": {
    "tags": []
   },
   "outputs": [
    {
     "data": {
      "text/plain": [
       "[50.0, 300.0, 0.0, 275.0, 0.0, 275.0, 153.675]"
      ]
     },
     "execution_count": 87,
     "metadata": {},
     "output_type": "execute_result"
    }
   ],
   "source": [
    "# Getting the values of the decision variables as a list\n",
    "[var.x for var in model.getVars()]"
   ]
  },
  {
   "cell_type": "code",
   "execution_count": 88,
   "id": "8472da6e-5489-43c2-9184-e2a48e11a2a7",
   "metadata": {
    "tags": []
   },
   "outputs": [
    {
     "data": {
      "text/plain": [
       "50.0"
      ]
     },
     "execution_count": 88,
     "metadata": {},
     "output_type": "execute_result"
    }
   ],
   "source": [
    "# Getting the values of the decision variables as a scalar\n",
    "var_index = 0\n",
    "model.getVars()[var_index].x"
   ]
  },
  {
   "cell_type": "code",
   "execution_count": 89,
   "id": "7958c50d-a0bc-42b8-bfa9-4b7055405d15",
   "metadata": {
    "tags": []
   },
   "outputs": [
    {
     "data": {
      "text/plain": [
       "2"
      ]
     },
     "execution_count": 89,
     "metadata": {},
     "output_type": "execute_result"
    }
   ],
   "source": [
    "# Check the optimization status\n",
    "model.Status"
   ]
  },
  {
   "cell_type": "markdown",
   "id": "61900d39-cd2a-4f94-a586-2de70de3ee21",
   "metadata": {},
   "source": [
    "**Note:**\n",
    "\n",
    "The possible outcomes for model.Status are:\n",
    "- 1: LOADED (Model is loaded, but no solution information is available)\n",
    "- 2: OPTIMAL (Model was solved to optimality)\n",
    "- 3: INFEASIBLE (Model was proven to be infeasible)\n",
    "- 4: INF_OR_UNBD (Model was proven to be infeasible or unbounded)\n",
    "- 5: UNBOUNDED (Model was proven to be unbounded)\n",
    "- 6: CUTOFF (Optimal objective for model was worse than the specified cutoff)\n",
    "- 7: ITERATION_LIMIT (Optimization terminated because the total number of simplex iterations performed exceeded the specified limit)\n",
    "- 8: NODE_LIMIT (Optimization terminated because the total number of branch-and-cut nodes explored exceeded the specified limit)\n",
    "- 9: TIME_LIMIT (Optimization terminated because the time expended exceeded the specified limit)\n",
    "- 10: SOLUTION_LIMIT (Optimization terminated because the number of solutions found reached the specified limit)\n",
    "- 11: INTERRUPTED (Optimization was terminated by the user)\n",
    "- 12: NUMERIC (Optimization was terminated due to unrecoverable numerical difficulties)\n",
    "- 13: SUBOPTIMAL (Unable to satisfy optimality tolerances; a sub-optimal solution is available)\n",
    "- 14: INPROGRESS (An asynchronous optimization call was made, but the associated optimization run is not yet complete)\n",
    "- 15: USER_OBJ_LIMIT (User specified an objective limit (a bound on either the best objective or the best bound), and that limit has been reached)"
   ]
  },
  {
   "cell_type": "code",
   "execution_count": 90,
   "id": "fcee5f54-d413-4c75-b683-31e3c40fa911",
   "metadata": {
    "tags": []
   },
   "outputs": [
    {
     "data": {
      "text/plain": [
       "153.675"
      ]
     },
     "execution_count": 90,
     "metadata": {},
     "output_type": "execute_result"
    }
   ],
   "source": [
    "# Optimal solution value\n",
    "model.ObjVal"
   ]
  },
  {
   "cell_type": "markdown",
   "id": "365a3df1-536e-49ba-b5a3-415a66c64f3e",
   "metadata": {},
   "source": [
    "**Note: Reduced cost**\n",
    "\n",
    "- Reduced Cost (RC) in linear programming indicates how much the objective function coefficient of a non-basic \n",
    "variable (at its current value) would have to improve (increase for a minimization problem or decrease for a  maximization problem) before that variable could take a positive value in the solution. \n",
    "- In simple terms, it represents the amount by which the objective function's value per unit of the variable would need to improve for the variable to be included in the solution. For basic variables (variables that are part of the optimal solution), the Reduced Cost is zero."
   ]
  },
  {
   "cell_type": "code",
   "execution_count": 91,
   "id": "91f9bb45-9903-4087-a021-33d371eb28b0",
   "metadata": {
    "tags": []
   },
   "outputs": [
    {
     "data": {
      "text/plain": [
       "{'x1': 0.0,\n",
       " 'x2': 0.0,\n",
       " 'x3': 0.036000000000000004,\n",
       " 'x4': 0.0,\n",
       " 'x5': 0.009000000000000008,\n",
       " 'x6': 0.0,\n",
       " 'x7': 0.0}"
      ]
     },
     "execution_count": 91,
     "metadata": {},
     "output_type": "execute_result"
    }
   ],
   "source": [
    "# Getting the reduced costs of all decision variables as a dictionary\n",
    "{var.varName: var.RC for var in model.getVars()}"
   ]
  },
  {
   "cell_type": "code",
   "execution_count": 92,
   "id": "6b9acb61-3197-454b-a5ad-7a9eb1735600",
   "metadata": {
    "tags": []
   },
   "outputs": [
    {
     "data": {
      "text/plain": [
       "[0.0, 0.0, 0.036000000000000004, 0.0, 0.009000000000000008, 0.0, 0.0]"
      ]
     },
     "execution_count": 92,
     "metadata": {},
     "output_type": "execute_result"
    }
   ],
   "source": [
    "# Getting the reduced costs of all decision variables as a list\n",
    "[var.RC for var in model.getVars()]"
   ]
  },
  {
   "cell_type": "code",
   "execution_count": 93,
   "id": "ea9e057c-c498-4d5e-b5cf-085da019602f",
   "metadata": {
    "tags": []
   },
   "outputs": [
    {
     "data": {
      "text/plain": [
       "0.036000000000000004"
      ]
     },
     "execution_count": 93,
     "metadata": {},
     "output_type": "execute_result"
    }
   ],
   "source": [
    "# Getting the reduced costs of all decision variables as a scalar\n",
    "var_index = 2\n",
    "model.getVars()[var_index].RC"
   ]
  },
  {
   "cell_type": "code",
   "execution_count": 94,
   "id": "257012a2-d51f-40b4-87dc-611821ce05ce",
   "metadata": {
    "tags": []
   },
   "outputs": [
    {
     "data": {
      "text/plain": [
       "1.0"
      ]
     },
     "execution_count": 94,
     "metadata": {},
     "output_type": "execute_result"
    }
   ],
   "source": [
    "# getting the coefficient of the cost vector\n",
    "var_index = 6\n",
    "model.getVars()[var_index].Obj"
   ]
  },
  {
   "cell_type": "markdown",
   "id": "f4ed2e70-2e4e-4b71-bec7-752a72178478",
   "metadata": {},
   "source": [
    "**Note: Shadow Prices**\n",
    "\n",
    "\n",
    "- The dual value indicates how much the objective value would change if the right-hand side of this constraint is increased by one unit"
   ]
  },
  {
   "cell_type": "code",
   "execution_count": 95,
   "id": "cf794330-ced5-4f69-8a02-9d2c597e8eb5",
   "metadata": {
    "tags": []
   },
   "outputs": [
    {
     "data": {
      "text/plain": [
       "{'e1': 1.0, 'e2': 0.0, 'e3': 0.0, 'e4': 0.225, 'e5': 0.153, 'e6': 0.126}"
      ]
     },
     "execution_count": 95,
     "metadata": {},
     "output_type": "execute_result"
    }
   ],
   "source": [
    "# Getting the dual values (shadow prices) of all constraints as a dictionary\n",
    "{constr.ConstrName: constr.Pi for constr in model.getConstrs()}"
   ]
  },
  {
   "cell_type": "code",
   "execution_count": 96,
   "id": "1c29c397-1cdb-4ee3-ad1f-2022bc8fb4cd",
   "metadata": {
    "tags": []
   },
   "outputs": [
    {
     "data": {
      "text/plain": [
       "[1.0, 0.0, 0.0, 0.225, 0.153, 0.126]"
      ]
     },
     "execution_count": 96,
     "metadata": {},
     "output_type": "execute_result"
    }
   ],
   "source": [
    "# Getting the dual values (shadow prices) of all constraints as a list\n",
    "[constr.Pi for constr in model.getConstrs()]"
   ]
  },
  {
   "cell_type": "code",
   "execution_count": 97,
   "id": "6fbc6278-d457-470a-9cb7-de57c36de85f",
   "metadata": {
    "tags": []
   },
   "outputs": [
    {
     "data": {
      "text/plain": [
       "0.0"
      ]
     },
     "execution_count": 97,
     "metadata": {},
     "output_type": "execute_result"
    }
   ],
   "source": [
    "# Getting the dual values (shadow prices) of a constraints as a scalar\n",
    "cons_index = 2\n",
    "model.getConstrs()[cons_index].PI"
   ]
  },
  {
   "cell_type": "markdown",
   "id": "c9f60ef8-7a6a-4aca-924f-b831f3baccb9",
   "metadata": {},
   "source": [
    "**Note: Slacks**\n",
    "\n",
    "- In linear programming, the slack of a constraint measures how far a constraint is from being binding (or tight) in the optimal solution. In other words, it indicates the amount by which the left-hand side (LHS) of a constraint can still change without changing the optimal solution.\n",
    "- A slack of zero means the constraint is exactly met (binding)."
   ]
  },
  {
   "cell_type": "code",
   "execution_count": 98,
   "id": "eb26399f-7a02-4787-aa70-a0841993782a",
   "metadata": {},
   "outputs": [
    {
     "data": {
      "text/plain": [
       "{'e1': 0.0, 'e2': 0.0, 'e3': 50.0, 'e4': 0.0, 'e5': 0.0, 'e6': 0.0}"
      ]
     },
     "execution_count": 98,
     "metadata": {},
     "output_type": "execute_result"
    }
   ],
   "source": [
    "# Getting the slack of all constraints as a dictionary\n",
    "{constr.ConstrName: constr.Slack for constr in model.getConstrs()}"
   ]
  },
  {
   "cell_type": "code",
   "execution_count": 99,
   "id": "822ed229-dbbb-497f-a608-7d3b528332b9",
   "metadata": {},
   "outputs": [
    {
     "data": {
      "text/plain": [
       "[0.0, 0.0, 50.0, 0.0, 0.0, 0.0]"
      ]
     },
     "execution_count": 99,
     "metadata": {},
     "output_type": "execute_result"
    }
   ],
   "source": [
    "# Getting the slack of all constraints as a dictionary\n",
    "[constr.Slack for constr in model.getConstrs()]"
   ]
  },
  {
   "cell_type": "code",
   "execution_count": 100,
   "id": "38220945-650d-4b31-bbf4-0f354a5614c1",
   "metadata": {},
   "outputs": [
    {
     "data": {
      "text/plain": [
       "50.0"
      ]
     },
     "execution_count": 100,
     "metadata": {},
     "output_type": "execute_result"
    }
   ],
   "source": [
    "# Getting the slack of a constraints as a scalar\n",
    "cons_index = 2\n",
    "model.getConstrs()[cons_index].Slack"
   ]
  },
  {
   "cell_type": "markdown",
   "id": "627b1b22-6588-44f5-b1e6-a1fbd519475d",
   "metadata": {},
   "source": [
    "**Note: RHS Sensitivity Analysis**\n",
    "\n",
    "- SARHSLow and SARHSUp provide the lower and upper limits for the RHS of the constraint within which the current optimal basis remains optimal."
   ]
  },
  {
   "cell_type": "code",
   "execution_count": 60,
   "id": "80b7aad2-47fe-4349-bc37-515a5e7d108f",
   "metadata": {
    "tags": []
   },
   "outputs": [
    {
     "data": {
      "text/plain": [
       "{'e1': -inf, 'e2': 300.0, 'e3': 550.0, 'e4': 50.0, 'e5': 25.0, 'e6': -0.0}"
      ]
     },
     "execution_count": 60,
     "metadata": {},
     "output_type": "execute_result"
    }
   ],
   "source": [
    "# sensitivity analysis right-hand side low (SARHSLow)\n",
    "{constr.ConstrName: constr.SARHSLow for constr in model.getConstrs()}"
   ]
  },
  {
   "cell_type": "code",
   "execution_count": 61,
   "id": "88a1c3d8-6f14-4f22-a44f-15e6db258778",
   "metadata": {
    "tags": []
   },
   "outputs": [
    {
     "data": {
      "text/plain": [
       "{'e1': inf, 'e2': 625.0, 'e3': inf, 'e4': 375.0, 'e5': 350.0, 'e6': 325.0}"
      ]
     },
     "execution_count": 61,
     "metadata": {},
     "output_type": "execute_result"
    }
   ],
   "source": [
    "# sensitivity analysis right-hand side up (SARHSUp)\n",
    "{constr.ConstrName: constr.SARHSUp for constr in model.getConstrs()}"
   ]
  },
  {
   "cell_type": "markdown",
   "id": "9a273e41-3959-47fb-8ca0-d93ddcfb5ca0",
   "metadata": {},
   "source": [
    "**Note: Intepretation of results**"
   ]
  },
  {
   "cell_type": "markdown",
   "id": "a4f2b9c9-313b-4f84-8967-0f4729fcdf82",
   "metadata": {},
   "source": [
    "| Constraint | Dual Value (Shadow Price) | Slack | SARHSLow | SARHSUp |\n",
    "|------------|---------------------------|-------|----------|---------|\n",
    "| e1         | 1.0                       | 0.0   | -inf     | inf     |\n",
    "| e2         | 0.0                       | 0.0   | 300.0    | 625.0   |\n",
    "| e3         | 0.0                       | 50.0  | 550.0    | inf     |\n",
    "| e4         | 0.225                     | 0.0   | 50.0     | 375.0   |\n",
    "| e5         | 0.153                     | 0.0   | 25.0     | 350.0   |\n",
    "| e6         | 0.126                     | 0.0   | -0.0     | 325.0   |\n"
   ]
  },
  {
   "cell_type": "markdown",
   "id": "83f9f323-2b9b-4255-9f8c-36646f0c7af5",
   "metadata": {},
   "source": [
    "- **Constraint e1**: \n",
    "  - Dual Value: 1.0, indicating that for each unit increase in the RHS, the objective function will improve by 1 unit.\n",
    "  - Slack: 0.0, implying the constraint is binding (tight) at the optimal solution.\n",
    "  - SARHSLow: -inf and SARHSUp: inf, suggesting that there is no limit to how much the RHS can be decreased or increased without changing the optimal basis.\n",
    "- **Constraint e2**: \n",
    "  - Dual Value: 0.0, suggesting no improvement in the objective function with a unit increase in the RHS.\n",
    "  - Slack: 0.0, indicating the constraint is binding.\n",
    "  - SARHSLow: 300.0 and SARHSUp: 625.0, meaning the RHS can be decreased to 300 or increased to 625 without affecting the optimal solution.\n",
    "- **Constraint e3**: \n",
    "  - Dual Value: 0.0, meaning no direct impact on the objective function from changes in the RHS.\n",
    "  - Slack: 50.0, indicating that this constraint is not binding and has some flexibility.\n",
    "  - SARHSLow: 550.0 and SARHSUp: inf, implying that decreasing RHS below 550 could change the optimal basis, but increasing has no upper bound.\n",
    "- **Constraint e4**: \n",
    "  - **Dual Value**: 0.225, indicating that for each unit increase in the RHS, the objective function will improve by 0.225 units.\n",
    "  - **Slack**: 0.0, showing that the constraint is binding at the optimal solution.\n",
    "  - **SARHSLow**: 50.0 and **SARHSUp**: 375.0, meaning the RHS can vary between 50 and 375 without altering the optimal solution.\n",
    "\n",
    "- **Constraint e5**: \n",
    "  - **Dual Value**: 0.153, suggesting that a unit increase in the RHS will result in an improvement of 0.153 units in the objective function.\n",
    "  - **Slack**: 0.0, indicating that the constraint is tight and active in determining the optimal solution.\n",
    "  - **SARHSLow**: 25.0 and **SARHSUp**: 350.0, showing that the feasible range for the RHS to change without impacting the optimality is between 25 and 350.\n",
    "\n",
    "- **Constraint e6**: \n",
    "  - **Dual Value**: 0.126, signifying that the objective function value will increase by 0.126 for every unit increase in the RHS.\n",
    "  - **Slack**: 0.0, implying that the constraint is binding.\n",
    "  - **SARHSLow**: -0.0 and **SARHSUp**: 325.0, indicating that the RHS cannot decrease from its current value but can increase up to 325 without affecting the current optimal solution."
   ]
  }
 ],
 "metadata": {
  "kernelspec": {
   "display_name": "Python 3 (ipykernel)",
   "language": "python",
   "name": "python3"
  },
  "language_info": {
   "codemirror_mode": {
    "name": "ipython",
    "version": 3
   },
   "file_extension": ".py",
   "mimetype": "text/x-python",
   "name": "python",
   "nbconvert_exporter": "python",
   "pygments_lexer": "ipython3",
   "version": "3.9.13"
  }
 },
 "nbformat": 4,
 "nbformat_minor": 5
}
